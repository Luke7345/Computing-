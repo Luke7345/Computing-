{
  "nbformat": 4,
  "nbformat_minor": 0,
  "metadata": {
    "colab": {
      "provenance": [],
      "authorship_tag": "ABX9TyNPGa2p8nxVWpYJUwlJE8Tm",
      "include_colab_link": true
    },
    "kernelspec": {
      "name": "python3",
      "display_name": "Python 3"
    },
    "language_info": {
      "name": "python"
    }
  },
  "cells": [
    {
      "cell_type": "markdown",
      "metadata": {
        "id": "view-in-github",
        "colab_type": "text"
      },
      "source": [
        "<a href=\"https://colab.research.google.com/github/Luke7345/Computing-/blob/main/StudentID_22499781.ipynb\" target=\"_parent\"><img src=\"https://colab.research.google.com/assets/colab-badge.svg\" alt=\"Open In Colab\"/></a>"
      ]
    },
    {
      "cell_type": "code",
      "source": [
        "#Imports all the functions from SymPy Library\n",
        "from sympy import *\n",
        "\n",
        "import math"
      ],
      "metadata": {
        "id": "cfpkXKkNgGaF"
      },
      "execution_count": 14,
      "outputs": []
    },
    {
      "cell_type": "markdown",
      "source": [
        "2. Compute the following:\n",
        "- (a) $\\frac{2}{5}$ $+$ $\\frac{1}{4}$ $($$\\frac{2}{7}$$-$$\\frac{1}{3}$$)$, accurately;\n",
        "- (b) $cos$$($$\\frac{\\pi}{5}$$)$$-$$sin$$($$\\frac{\\pi}{3}$$)$ to five decimal places."
      ],
      "metadata": {
        "id": "sqfUzAgOb1Wu"
      }
    },
    {
      "cell_type": "code",
      "execution_count": 1,
      "metadata": {
        "colab": {
          "base_uri": "https://localhost:8080/"
        },
        "id": "g6FHWEQFYkxQ",
        "outputId": "c9418be1-fdeb-4d5c-f536-57db65102862"
      },
      "outputs": [
        {
          "output_type": "execute_result",
          "data": {
            "text/plain": [
              "0.3880952380952381"
            ]
          },
          "metadata": {},
          "execution_count": 1
        }
      ],
      "source": [
        "#(a)\n",
        "(2 / 5) + (1 / 4) * ((2 / 7) - (1 / 3))"
      ]
    },
    {
      "cell_type": "code",
      "source": [
        "#(b)\n",
        "a=(cos(math.pi / 5)) - (sin(math.pi / 3))\n",
        "N(a ,4)"
      ],
      "metadata": {
        "colab": {
          "base_uri": "https://localhost:8080/",
          "height": 37
        },
        "id": "bTQ7jfklf7EI",
        "outputId": "63e7457d-977f-42ec-fb10-4e6334af2d41"
      },
      "execution_count": 16,
      "outputs": [
        {
          "output_type": "execute_result",
          "data": {
            "text/plain": [
              "-0.05701"
            ],
            "text/latex": "$\\displaystyle -0.05701$"
          },
          "metadata": {},
          "execution_count": 16
        }
      ]
    },
    {
      "cell_type": "markdown",
      "source": [
        "3. The logistic map function $f$ say, is defined as:\n",
        "$f(x)=3.5x(1-x)$\n",
        "-Write a Python Program that defines this function and use a loop to compute the first 20 iterates of $x_{n+_1}$$=f(x_n)$"
      ],
      "metadata": {
        "id": "BcubAFhJiECD"
      }
    }
  ]
}