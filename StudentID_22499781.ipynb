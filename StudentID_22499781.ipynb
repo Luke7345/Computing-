{
  "nbformat": 4,
  "nbformat_minor": 0,
  "metadata": {
    "colab": {
      "provenance": [],
      "authorship_tag": "ABX9TyM7mG9PnRX8vJs19aaNtGew",
      "include_colab_link": true
    },
    "kernelspec": {
      "name": "python3",
      "display_name": "Python 3"
    },
    "language_info": {
      "name": "python"
    }
  },
  "cells": [
    {
      "cell_type": "markdown",
      "metadata": {
        "id": "view-in-github",
        "colab_type": "text"
      },
      "source": [
        "<a href=\"https://colab.research.google.com/github/Luke7345/Computing-/blob/main/StudentID_22499781.ipynb\" target=\"_parent\"><img src=\"https://colab.research.google.com/assets/colab-badge.svg\" alt=\"Open In Colab\"/></a>"
      ]
    },
    {
      "cell_type": "code",
      "source": [
        "#Imports all the functions from SymPy Library\n",
        "from sympy import *\n",
        "\n",
        "import math\n",
        "\n",
        "!pip install ColabTurtlePlus\n",
        "from ColabTurtlePlus.Turtle import *"
      ],
      "metadata": {
        "id": "cfpkXKkNgGaF",
        "colab": {
          "base_uri": "https://localhost:8080/"
        },
        "outputId": "00e25dc3-a0d5-4cc7-b707-3268e7bb6451"
      },
      "execution_count": 1,
      "outputs": [
        {
          "output_type": "stream",
          "name": "stdout",
          "text": [
            "Collecting ColabTurtlePlus\n",
            "  Downloading ColabTurtlePlus-2.0.1-py3-none-any.whl (31 kB)\n",
            "Installing collected packages: ColabTurtlePlus\n",
            "Successfully installed ColabTurtlePlus-2.0.1\n",
            "Put clearscreen() as the first line in a cell (after the import command) to re-run turtle commands in the cell\n"
          ]
        }
      ]
    },
    {
      "cell_type": "markdown",
      "source": [
        "2. Compute the following:\n",
        "- (a) $\\frac{2}{5}$ $+$ $\\frac{1}{4}$ $($$\\frac{2}{7}$$-$$\\frac{1}{3}$$)$, accurately;\n",
        "- (b) $cos$$($$\\frac{\\pi}{5}$$)$$-$$sin$$($$\\frac{\\pi}{3}$$)$ to five decimal places."
      ],
      "metadata": {
        "id": "sqfUzAgOb1Wu"
      }
    },
    {
      "cell_type": "code",
      "execution_count": null,
      "metadata": {
        "colab": {
          "base_uri": "https://localhost:8080/"
        },
        "id": "g6FHWEQFYkxQ",
        "outputId": "f24ef271-4f2c-43da-cbcc-f88cc7ed1a13"
      },
      "outputs": [
        {
          "output_type": "execute_result",
          "data": {
            "text/plain": [
              "0.3880952380952381"
            ]
          },
          "metadata": {},
          "execution_count": 2
        }
      ],
      "source": [
        "#(a)\n",
        "(2 / 5) + (1 / 4) * ((2 / 7) - (1 / 3))"
      ]
    },
    {
      "cell_type": "code",
      "source": [
        "#(b)\n",
        "a=(cos(math.pi / 5)) - (sin(math.pi / 3))\n",
        "N(a ,4)"
      ],
      "metadata": {
        "colab": {
          "base_uri": "https://localhost:8080/",
          "height": 37
        },
        "id": "bTQ7jfklf7EI",
        "outputId": "312dbd83-ae59-4206-9496-b48b99ef3f7e"
      },
      "execution_count": null,
      "outputs": [
        {
          "output_type": "execute_result",
          "data": {
            "text/plain": [
              "-0.05701"
            ],
            "text/latex": "$\\displaystyle -0.05701$"
          },
          "metadata": {},
          "execution_count": 3
        }
      ]
    },
    {
      "cell_type": "markdown",
      "source": [
        "3. The logistic map function, $f$ say, is defined as:\n",
        "$f(x)=3.5x(1-x)$\n",
        "\n",
        "Write a Python Program that defines this function and use a loop to compute the first 20 iterates of: $x_{n+_1}$$=f(x_n)$,\n",
        "\n",
        "given that $x_0=0.1$. Evaluate to 10 decimal places throughout and put the sequence of values in a list."
      ],
      "metadata": {
        "id": "BcubAFhJiECD"
      }
    },
    {
      "cell_type": "code",
      "source": [
        "def function(f):\n",
        "    return (3.5 * x * (1 - x))\n",
        "\n",
        "x = 0.1\n",
        "g = []\n",
        "for i in range(20):\n",
        "    g.append(N(x, 10))\n",
        "    x = function(x)\n",
        "print(g)\n"
      ],
      "metadata": {
        "id": "4tFWvmcxLDI9",
        "outputId": "88533ccb-0b20-4eec-ad5c-78425dd5c98f",
        "colab": {
          "base_uri": "https://localhost:8080/"
        }
      },
      "execution_count": null,
      "outputs": [
        {
          "output_type": "stream",
          "name": "stdout",
          "text": [
            "[0.1000000000, 0.3150000000, 0.7552125000, 0.6470330295, 0.7993345089, 0.5613959813, 0.8618068672, 0.4168352680, 0.8507926957, 0.4443056962, 0.8641435058, 0.4108982751, 0.8472130892, 0.4530507475, 0.8672851869, 0.4028555701, 0.8419703591, 0.4656969572, 0.8708815544, 0.3935640541]\n"
          ]
        }
      ]
    },
    {
      "cell_type": "markdown",
      "source": [
        "4. Use the tutle module to plot the figure."
      ],
      "metadata": {
        "id": "LAMXsCq_PIRN"
      }
    },
    {
      "cell_type": "code",
      "source": [
        "import turtle\n",
        "import math\n",
        "import sympy\n",
        "import numpy\n",
        "\n",
        "initializeTurtle()\n",
        "speed(10)\n",
        "penup()\n",
        "points = [(0,100),(40, 100),(40, 80),(25, 80),(25, 60),(40, 60),(40, 40),(25, 40),(25, 0),(0, 0),(0, 100)]\n",
        "\n",
        "def fshape(points):\n",
        "  penup()\n",
        "  goto(points[0])\n",
        "  pendown()\n",
        "  begin_fill()\n",
        "  for point in points[1:]:\n",
        "    goto(point)\n",
        "  end_fill()\n",
        "\n",
        "fillcolor(\"red\")\n",
        "fshape(points)\n",
        "\n",
        "\n",
        "\n",
        "done()\n",
        "\n",
        "\n",
        "def fshape2(points):\n",
        "  fshape2 = fshape\n",
        "  penup()\n",
        "  goto(points[0])\n",
        "  pendown()\n",
        "  begin_fill()\n",
        "  for point in points[1:]:\n",
        "    goto(point)\n",
        "    end_fill()\n",
        "\n",
        "fillcolor(\"blue\")\n",
        "fshape2(points)\n",
        "done()\n",
        "\n",
        "\n",
        "\n",
        "\n",
        "def rotate_point(point, angle):\n",
        "    x, y = point\n",
        "    cos_angle = math.cos(angle)\n",
        "    sin_angle = math.sin(angle)\n",
        "    x_new = x * cos_angle - y * sin_angle\n",
        "    y_new = x * sin_angle + y * cos_angle\n",
        "    return x_new, y_new\n",
        "\n",
        "\n",
        "    x_new = T[2]\n",
        "    y_new = T[3]\n",
        "    return x_new, y_new\n",
        "\n",
        "\n",
        "#((3 * (math.pi) / 4) == symbols(\"x\"))\n",
        "x = ((3 * (math.pi) / 4))\n",
        "#T = [[cos(), -sin()], [sin(), cos()]]\n",
        "T = [[math.cos(x), math.sin(-x)], [math.sin(x), math.cos(x)]]\n",
        "for r in T:\n",
        "  for c in r:\n",
        "    print(c,end = \" \")\n",
        "  print()\n",
        "\n",
        "\n",
        "\n",
        "\n",
        "\n",
        "\n",
        "\n",
        "rotated_points = [rotate_point(point, 3*math.pi/4) for point in points]\n",
        "\n",
        "fshape(rotated_points)\n",
        "\n",
        "\n",
        "\n",
        "\n",
        "\n",
        "\n",
        "\n"
      ],
      "metadata": {
        "id": "39PbDtVqY_9G",
        "colab": {
          "base_uri": "https://localhost:8080/",
          "height": 676
        },
        "outputId": "45b454dc-718b-4eca-9723-cd0214b90cc1"
      },
      "execution_count": 22,
      "outputs": [
        {
          "output_type": "display_data",
          "data": {
            "text/plain": [
              "<IPython.core.display.HTML object>"
            ],
            "text/html": [
              "\n",
              "      <svg width=\"800\" height=\"600\">  \n",
              "        <rect width=\"100%\" height=\"100%\" style=\"fill:white;stroke:;stroke-width:1\"/>\n",
              "        \n",
              "        \n",
              "        <path fill-rule=\"evenodd\" fill-opacity=\"1\" d=\"M 400.0 200.0  L 440.0 200.0  L 440.0 220.0  L 425.0 220.0  L 425.0 240.0  L 440.0 240.0  L 440.0 260.0  L 425.0 260.0  L 425.0 300.0  L 400.0 300.0  L 400.0 200.0 \" stroke-linecap=\"round\" style=\"stroke:black;stroke-width:1\" fill=\"red\" /><path fill-rule=\"evenodd\" fill-opacity=\"1\" d=\"M 400.0 200.0  L 440.0 200.0 \" stroke-linecap=\"round\" style=\"stroke:black;stroke-width:1\" fill=\"blue\" /><line x1=\"440.0\" y1=\"200.0\" x2=\"440.0\" y2=\"220.0\" stroke-linecap=\"round\" style=\"stroke:black;stroke-width:1\" /><line x1=\"440.0\" y1=\"220.0\" x2=\"425.0\" y2=\"220.0\" stroke-linecap=\"round\" style=\"stroke:black;stroke-width:1\" /><line x1=\"425.0\" y1=\"220.0\" x2=\"425.0\" y2=\"240.0\" stroke-linecap=\"round\" style=\"stroke:black;stroke-width:1\" /><line x1=\"425.0\" y1=\"240.0\" x2=\"440.0\" y2=\"240.0\" stroke-linecap=\"round\" style=\"stroke:black;stroke-width:1\" /><line x1=\"440.0\" y1=\"240.0\" x2=\"440.0\" y2=\"260.0\" stroke-linecap=\"round\" style=\"stroke:black;stroke-width:1\" /><line x1=\"440.0\" y1=\"260.0\" x2=\"425.0\" y2=\"260.0\" stroke-linecap=\"round\" style=\"stroke:black;stroke-width:1\" /><line x1=\"425.0\" y1=\"260.0\" x2=\"425.0\" y2=\"300.0\" stroke-linecap=\"round\" style=\"stroke:black;stroke-width:1\" /><line x1=\"425.0\" y1=\"300.0\" x2=\"400.0\" y2=\"300.0\" stroke-linecap=\"round\" style=\"stroke:black;stroke-width:1\" /><line x1=\"400.0\" y1=\"300.0\" x2=\"400.0\" y2=\"200.0\" stroke-linecap=\"round\" style=\"stroke:black;stroke-width:1\" /><path fill-rule=\"evenodd\" fill-opacity=\"1\" d=\"M 329.289 370.711  L 301.005 342.426  L 315.147 328.284  L 325.754 338.891  L 339.896 324.749  L 329.289 314.142  L 343.431 300.0  L 354.038 310.607  L 382.322 282.322  L 400.0 300.0  L 329.289 370.711 \" stroke-linecap=\"round\" style=\"stroke:black;stroke-width:1\" fill=\"blue\" />\n",
              "        \n",
              "        \n",
              "        <g id=\"classic\" visibility=\"visible\" transform=\"rotate(-90,329.289,370.711) translate(329.289, 370.711)\">\n",
              "<polygon points=\"-5,-4.5 0,-2.5 5,-4.5 0,4.5\" transform=\"skewX(0) scale(1,1)\" style=\"stroke:black;fill:blue;stroke-width:1\" />\n",
              "</g>\n",
              "      </svg>\n",
              "    "
            ]
          },
          "metadata": {}
        },
        {
          "output_type": "stream",
          "name": "stdout",
          "text": [
            "-0.7071067811865475 -0.7071067811865476 \n",
            "0.7071067811865476 -0.7071067811865475 \n"
          ]
        }
      ]
    }
  ]
}