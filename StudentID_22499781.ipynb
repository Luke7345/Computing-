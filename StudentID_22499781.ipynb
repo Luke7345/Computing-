{
  "nbformat": 4,
  "nbformat_minor": 0,
  "metadata": {
    "colab": {
      "provenance": [],
      "authorship_tag": "ABX9TyOQZ3WYb8ut4gRzRDgHiS8y",
      "include_colab_link": true
    },
    "kernelspec": {
      "name": "python3",
      "display_name": "Python 3"
    },
    "language_info": {
      "name": "python"
    }
  },
  "cells": [
    {
      "cell_type": "markdown",
      "metadata": {
        "id": "view-in-github",
        "colab_type": "text"
      },
      "source": [
        "<a href=\"https://colab.research.google.com/github/Luke7345/Computing-/blob/main/StudentID_22499781.ipynb\" target=\"_parent\"><img src=\"https://colab.research.google.com/assets/colab-badge.svg\" alt=\"Open In Colab\"/></a>"
      ]
    },
    {
      "cell_type": "code",
      "source": [
        "#Imports all the functions from SymPy Library\n",
        "from sympy import *\n",
        "\n",
        "import math\n",
        "\n",
        "!pip install ColabTurtlePlus\n",
        "from ColabTurtlePlus.Turtle import *"
      ],
      "metadata": {
        "id": "cfpkXKkNgGaF",
        "colab": {
          "base_uri": "https://localhost:8080/"
        },
        "outputId": "672a49a8-d347-44d5-f292-52ddd33c7e63"
      },
      "execution_count": 1,
      "outputs": [
        {
          "output_type": "stream",
          "name": "stdout",
          "text": [
            "Collecting ColabTurtlePlus\n",
            "  Downloading ColabTurtlePlus-2.0.1-py3-none-any.whl (31 kB)\n",
            "Installing collected packages: ColabTurtlePlus\n",
            "Successfully installed ColabTurtlePlus-2.0.1\n",
            "Put clearscreen() as the first line in a cell (after the import command) to re-run turtle commands in the cell\n"
          ]
        }
      ]
    },
    {
      "cell_type": "markdown",
      "source": [
        "2. Compute the following:\n",
        "- (a) $\\frac{2}{5}$ $+$ $\\frac{1}{4}$ $($$\\frac{2}{7}$$-$$\\frac{1}{3}$$)$, accurately;\n",
        "- (b) $cos$$($$\\frac{\\pi}{5}$$)$$-$$sin$$($$\\frac{\\pi}{3}$$)$ to five decimal places."
      ],
      "metadata": {
        "id": "sqfUzAgOb1Wu"
      }
    },
    {
      "cell_type": "code",
      "execution_count": null,
      "metadata": {
        "colab": {
          "base_uri": "https://localhost:8080/"
        },
        "id": "g6FHWEQFYkxQ",
        "outputId": "f24ef271-4f2c-43da-cbcc-f88cc7ed1a13"
      },
      "outputs": [
        {
          "output_type": "execute_result",
          "data": {
            "text/plain": [
              "0.3880952380952381"
            ]
          },
          "metadata": {},
          "execution_count": 2
        }
      ],
      "source": [
        "#(a)\n",
        "(2 / 5) + (1 / 4) * ((2 / 7) - (1 / 3))"
      ]
    },
    {
      "cell_type": "code",
      "source": [
        "#(b)\n",
        "a=(cos(math.pi / 5)) - (sin(math.pi / 3))\n",
        "N(a ,4)"
      ],
      "metadata": {
        "colab": {
          "base_uri": "https://localhost:8080/",
          "height": 37
        },
        "id": "bTQ7jfklf7EI",
        "outputId": "312dbd83-ae59-4206-9496-b48b99ef3f7e"
      },
      "execution_count": null,
      "outputs": [
        {
          "output_type": "execute_result",
          "data": {
            "text/plain": [
              "-0.05701"
            ],
            "text/latex": "$\\displaystyle -0.05701$"
          },
          "metadata": {},
          "execution_count": 3
        }
      ]
    },
    {
      "cell_type": "markdown",
      "source": [
        "3. The logistic map function, $f$ say, is defined as:\n",
        "$f(x)=3.5x(1-x)$\n",
        "\n",
        "Write a Python Program that defines this function and use a loop to compute the first 20 iterates of: $x_{n+_1}$$=f(x_n)$,\n",
        "\n",
        "given that $x_0=0.1$. Evaluate to 10 decimal places throughout and put the sequence of values in a list."
      ],
      "metadata": {
        "id": "BcubAFhJiECD"
      }
    },
    {
      "cell_type": "code",
      "source": [
        "def function(f):\n",
        "  def x():\n",
        "    a = 3.5 * x * (1 - x)\n"
      ],
      "metadata": {
        "id": "haWc5cpomINk"
      },
      "execution_count": null,
      "outputs": []
    },
    {
      "cell_type": "code",
      "source": [
        "def function(f):\n",
        "  while x<=20:\n",
        "    x = symbols(\"x\")\n",
        "  f = 3.5 * x * (1 - x)\n",
        "  x = 0.1\n",
        "  x = x + 1\n",
        "  solve (f)\n",
        "  return (f)\n",
        "\n",
        "\n"
      ],
      "metadata": {
        "id": "EcUJp1_peWJy"
      },
      "execution_count": null,
      "outputs": []
    },
    {
      "cell_type": "code",
      "source": [
        "x = symbols(\"x\")\n",
        "\n",
        "x = 1\n",
        "while x <= 20:\n",
        "  x += 1\n",
        "\n",
        "while x <=20:\n",
        "  f = 3.5 * x * (1 - x)\n",
        "  x = 1\n",
        "while x <= 20:\n",
        "  x += 1\n",
        "  solve (f)\n",
        "  break\n",
        "\n",
        "  print (f)\n"
      ],
      "metadata": {
        "id": "zUYbZ6RLpIlv"
      },
      "execution_count": null,
      "outputs": []
    },
    {
      "cell_type": "code",
      "source": [
        "x , y = symbols(\"x , y\")\n",
        "solve (x - 3.5 * y * (1 - y) , y)\n"
      ],
      "metadata": {
        "colab": {
          "base_uri": "https://localhost:8080/"
        },
        "id": "bUmp_LVQMWOt",
        "outputId": "9dc4d95a-0f49-411f-ff0e-d95e2b4e33f5"
      },
      "execution_count": null,
      "outputs": [
        {
          "output_type": "execute_result",
          "data": {
            "text/plain": [
              "[0.5 - 0.534522483824849*sqrt(0.875 - x),\n",
              " 0.534522483824849*sqrt(0.875 - x) + 0.5]"
            ]
          },
          "metadata": {},
          "execution_count": 7
        }
      ]
    },
    {
      "cell_type": "code",
      "source": [
        "def f(f):\n",
        "  return (3.5 * x * (1 - x))\n",
        "\n",
        "x = []\n",
        "x = 0.1\n",
        "x[1] = f(x[0])\n",
        "\n"
      ],
      "metadata": {
        "id": "zk1IibbIa1-z",
        "colab": {
          "base_uri": "https://localhost:8080/",
          "height": 193
        },
        "outputId": "4fdf66cc-bb27-4a9e-8015-2b3e150515f2"
      },
      "execution_count": null,
      "outputs": [
        {
          "output_type": "error",
          "ename": "TypeError",
          "evalue": "'float' object is not subscriptable",
          "traceback": [
            "\u001b[0;31m---------------------------------------------------------------------------\u001b[0m",
            "\u001b[0;31mTypeError\u001b[0m                                 Traceback (most recent call last)",
            "\u001b[0;32m<ipython-input-8-d2a4e8c2e509>\u001b[0m in \u001b[0;36m<cell line: 6>\u001b[0;34m()\u001b[0m\n\u001b[1;32m      4\u001b[0m \u001b[0mx\u001b[0m \u001b[0;34m=\u001b[0m \u001b[0;34m[\u001b[0m\u001b[0;34m]\u001b[0m\u001b[0;34m\u001b[0m\u001b[0;34m\u001b[0m\u001b[0m\n\u001b[1;32m      5\u001b[0m \u001b[0mx\u001b[0m \u001b[0;34m=\u001b[0m \u001b[0;36m0.1\u001b[0m\u001b[0;34m\u001b[0m\u001b[0;34m\u001b[0m\u001b[0m\n\u001b[0;32m----> 6\u001b[0;31m \u001b[0mx\u001b[0m\u001b[0;34m[\u001b[0m\u001b[0;36m1\u001b[0m\u001b[0;34m]\u001b[0m \u001b[0;34m=\u001b[0m \u001b[0mf\u001b[0m\u001b[0;34m(\u001b[0m\u001b[0mx\u001b[0m\u001b[0;34m[\u001b[0m\u001b[0;36m0\u001b[0m\u001b[0;34m]\u001b[0m\u001b[0;34m)\u001b[0m\u001b[0;34m\u001b[0m\u001b[0;34m\u001b[0m\u001b[0m\n\u001b[0m\u001b[1;32m      7\u001b[0m \u001b[0;34m\u001b[0m\u001b[0m\n",
            "\u001b[0;31mTypeError\u001b[0m: 'float' object is not subscriptable"
          ]
        }
      ]
    },
    {
      "cell_type": "code",
      "source": [
        "def function(f):\n",
        "    return (3.5 * x * (1 - x))\n",
        "\n",
        "x = 0.1\n",
        "g = []\n",
        "for i in range(20):\n",
        "    g.append(N(x, 10))\n",
        "    x = function(x)\n",
        "print(g)\n"
      ],
      "metadata": {
        "id": "4tFWvmcxLDI9",
        "outputId": "88533ccb-0b20-4eec-ad5c-78425dd5c98f",
        "colab": {
          "base_uri": "https://localhost:8080/"
        }
      },
      "execution_count": null,
      "outputs": [
        {
          "output_type": "stream",
          "name": "stdout",
          "text": [
            "[0.1000000000, 0.3150000000, 0.7552125000, 0.6470330295, 0.7993345089, 0.5613959813, 0.8618068672, 0.4168352680, 0.8507926957, 0.4443056962, 0.8641435058, 0.4108982751, 0.8472130892, 0.4530507475, 0.8672851869, 0.4028555701, 0.8419703591, 0.4656969572, 0.8708815544, 0.3935640541]\n"
          ]
        }
      ]
    },
    {
      "cell_type": "markdown",
      "source": [
        "4. Use the tutle module to plot the figure."
      ],
      "metadata": {
        "id": "LAMXsCq_PIRN"
      }
    },
    {
      "cell_type": "code",
      "source": [
        "initializeTurtle()\n",
        "def cantor(x , y , length):\n",
        "  speed()\n",
        "  if length >= 10:\n",
        "    penup()\n",
        "    pensize(2)\n",
        "    pencolour(\"red\")\n",
        "    setpos(x , y)\n",
        "    pendown()\n",
        "    fd(length)\n",
        "    y -= 80\n",
        "    forward (100)\n",
        "    right(40)\n",
        "    right(20)\n",
        "    right(10)\n",
        "    left(10)\n",
        "    penup()\n",
        ""
      ],
      "metadata": {
        "id": "EBSgizfAPOg_",
        "colab": {
          "base_uri": "https://localhost:8080/",
          "height": 642
        },
        "outputId": "2457c655-022a-42f1-8840-be77ebc06b44"
      },
      "execution_count": 13,
      "outputs": [
        {
          "output_type": "display_data",
          "data": {
            "text/plain": [
              "<IPython.core.display.HTML object>"
            ],
            "text/html": [
              "\n",
              "      <svg width=\"800\" height=\"600\">  \n",
              "        <rect width=\"100%\" height=\"100%\" style=\"fill:white;stroke:;stroke-width:1\"/>\n",
              "        \n",
              "        \n",
              "        \n",
              "        \n",
              "        \n",
              "        \n",
              "      </svg>\n",
              "    "
            ]
          },
          "metadata": {}
        }
      ]
    },
    {
      "cell_type": "code",
      "source": [
        "import turtle, random\n",
        "initializeTurtle()\n",
        "points = [-50, 0 , 50 , 100 , 150 ]\n",
        "\n",
        "def f(lines,sideL):\n",
        "  for i in range(0,sideL):\n",
        "    turtle.forward[sideL]\n",
        "\n",
        "\n",
        "  for i in range(5):\n",
        "    y = points[i]\n",
        "    x = points[i-1]\n",
        "    turtle.penup()\n",
        "    turtle.goto(x , y)\n",
        "    turtle.pendown()\n",
        "    lines(50)\n",
        "    turtle.color(\"red\")\n",
        "    turtle.begin_fill()\n",
        "    f(lines,random.choice(lines))\n",
        "    turtle.end_fill()\n"
      ],
      "metadata": {
        "colab": {
          "base_uri": "https://localhost:8080/",
          "height": 642
        },
        "id": "6G8PPEvbPqqk",
        "outputId": "dd8b536d-a0e4-4d79-f146-87b617d9d0e9"
      },
      "execution_count": 8,
      "outputs": [
        {
          "output_type": "display_data",
          "data": {
            "text/plain": [
              "<IPython.core.display.HTML object>"
            ],
            "text/html": [
              "\n",
              "      <svg width=\"800\" height=\"600\">  \n",
              "        <rect width=\"100%\" height=\"100%\" style=\"fill:white;stroke:;stroke-width:1\"/>\n",
              "        \n",
              "        \n",
              "        \n",
              "        \n",
              "        \n",
              "        \n",
              "      </svg>\n",
              "    "
            ]
          },
          "metadata": {}
        }
      ]
    },
    {
      "cell_type": "code",
      "source": [
        "import turtle\n",
        "initializeTurtle()\n",
        "speed(10)\n",
        "penup()\n",
        "\n",
        "points = [(0,100),(40, 100),(40, 80),(25, 80),(25, 60),(40, 60),(40, 40),(25, 40),(25, 0),(0, 0),(0, 100)]\n",
        "\n",
        "def fshape(points):\n",
        "  penup()\n",
        "  goto(points[0])\n",
        "  pendown()\n",
        "  for point in points[1:]:\n",
        "    goto(point)\n",
        "\n",
        "fshape(points)\n",
        "\n",
        "done()"
      ],
      "metadata": {
        "id": "39PbDtVqY_9G",
        "colab": {
          "base_uri": "https://localhost:8080/",
          "height": 642
        },
        "outputId": "6ad58848-ad5c-4046-dcca-267f032ffcbc"
      },
      "execution_count": 31,
      "outputs": [
        {
          "output_type": "display_data",
          "data": {
            "text/plain": [
              "<IPython.core.display.HTML object>"
            ],
            "text/html": [
              "\n",
              "      <svg width=\"800\" height=\"600\">  \n",
              "        <rect width=\"100%\" height=\"100%\" style=\"fill:white;stroke:;stroke-width:1\"/>\n",
              "        \n",
              "        \n",
              "        <line x1=\"400.0\" y1=\"200.0\" x2=\"440.0\" y2=\"200.0\" stroke-linecap=\"round\" style=\"stroke:black;stroke-width:1\" /><line x1=\"440.0\" y1=\"200.0\" x2=\"440.0\" y2=\"220.0\" stroke-linecap=\"round\" style=\"stroke:black;stroke-width:1\" /><line x1=\"440.0\" y1=\"220.0\" x2=\"425.0\" y2=\"220.0\" stroke-linecap=\"round\" style=\"stroke:black;stroke-width:1\" /><line x1=\"425.0\" y1=\"220.0\" x2=\"425.0\" y2=\"240.0\" stroke-linecap=\"round\" style=\"stroke:black;stroke-width:1\" /><line x1=\"425.0\" y1=\"240.0\" x2=\"440.0\" y2=\"240.0\" stroke-linecap=\"round\" style=\"stroke:black;stroke-width:1\" /><line x1=\"440.0\" y1=\"240.0\" x2=\"440.0\" y2=\"260.0\" stroke-linecap=\"round\" style=\"stroke:black;stroke-width:1\" /><line x1=\"440.0\" y1=\"260.0\" x2=\"425.0\" y2=\"260.0\" stroke-linecap=\"round\" style=\"stroke:black;stroke-width:1\" /><line x1=\"425.0\" y1=\"260.0\" x2=\"425.0\" y2=\"300.0\" stroke-linecap=\"round\" style=\"stroke:black;stroke-width:1\" /><line x1=\"425.0\" y1=\"300.0\" x2=\"400.0\" y2=\"300.0\" stroke-linecap=\"round\" style=\"stroke:black;stroke-width:1\" /><line x1=\"400.0\" y1=\"300.0\" x2=\"400.0\" y2=\"200.0\" stroke-linecap=\"round\" style=\"stroke:black;stroke-width:1\" />\n",
              "        \n",
              "        \n",
              "        <g id=\"classic\" visibility=\"visible\" transform=\"rotate(-90,400.0,200.0) translate(400.0, 200.0)\">\n",
              "<polygon points=\"-5,-4.5 0,-2.5 5,-4.5 0,4.5\" transform=\"skewX(0) scale(1,1)\" style=\"stroke:black;fill:black;stroke-width:1\" />\n",
              "</g>\n",
              "      </svg>\n",
              "    "
            ]
          },
          "metadata": {}
        }
      ]
    }
  ]
}