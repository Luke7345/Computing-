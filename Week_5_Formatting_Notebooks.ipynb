{
  "nbformat": 4,
  "nbformat_minor": 0,
  "metadata": {
    "colab": {
      "provenance": [],
      "authorship_tag": "ABX9TyMVKktQ+C/ORTsGSv1nf55l",
      "include_colab_link": true
    },
    "kernelspec": {
      "name": "python3",
      "display_name": "Python 3"
    },
    "language_info": {
      "name": "python"
    }
  },
  "cells": [
    {
      "cell_type": "markdown",
      "metadata": {
        "id": "view-in-github",
        "colab_type": "text"
      },
      "source": [
        "<a href=\"https://colab.research.google.com/github/Luke7345/Computing-/blob/main/Week_5_Formatting_Notebooks.ipynb\" target=\"_parent\"><img src=\"https://colab.research.google.com/assets/colab-badge.svg\" alt=\"Open In Colab\"/></a>"
      ]
    },
    {
      "cell_type": "markdown",
      "source": [
        "# **Basic Formtatting**"
      ],
      "metadata": {
        "id": "OTWjZeGW3XQZ"
      }
    },
    {
      "cell_type": "markdown",
      "source": [
        "#Title\n",
        "## Subtitle\n",
        "### Subheading\n",
        "**Bold**\n",
        "*Italic*\n",
        "- Bullet Item 1\n",
        "- Bullet Item 2\n",
        "1. Numbered Item 1\n",
        "2. Numbered Item 2\n",
        "\n",
        "---\n",
        "\n"
      ],
      "metadata": {
        "id": "rt2txaEe26SV"
      }
    },
    {
      "cell_type": "markdown",
      "source": [
        "#LaTeX"
      ],
      "metadata": {
        "id": "nlZiI3ob3ioy"
      }
    },
    {
      "cell_type": "markdown",
      "source": [
        "1. $y=X^2+4x-8$\n",
        "\n",
        "---------------------------------------\n",
        "\n",
        "2. $\\frac{dy}{dx}=2x+4$\n",
        "\n",
        "---------------------------------------\n",
        "\n",
        "3. $\\tan(x)=\\frac{\\sin(x)}{\\cos(x)}$\n"
      ],
      "metadata": {
        "id": "R6UstVVs31pm"
      }
    },
    {
      "cell_type": "markdown",
      "source": [
        "#Symbolic Python / SymPy Library"
      ],
      "metadata": {
        "id": "WhgRMroS5Abv"
      }
    },
    {
      "cell_type": "code",
      "source": [
        "#Imports all the functions from SymPy Library\n",
        "from sympy import *\n"
      ],
      "metadata": {
        "id": "GDp6dfsH5KsC"
      },
      "execution_count": 1,
      "outputs": []
    },
    {
      "cell_type": "code",
      "source": [
        "#Declares Symbolic Objects\n",
        "n , x , y = symbols(\"n x y\")"
      ],
      "metadata": {
        "id": "ZdmeNXPi5dQF"
      },
      "execution_count": 5,
      "outputs": []
    },
    {
      "cell_type": "code",
      "source": [
        "#Factorisation\n",
        "factor(x**2 - y**2)"
      ],
      "metadata": {
        "colab": {
          "base_uri": "https://localhost:8080/",
          "height": 39
        },
        "id": "6siIkelX5mbO",
        "outputId": "ea835822-21e9-4bce-8827-e14f56f9f09c"
      },
      "execution_count": 6,
      "outputs": [
        {
          "output_type": "execute_result",
          "data": {
            "text/plain": [
              "(x - y)*(x + y)"
            ],
            "text/latex": "$\\displaystyle \\left(x - y\\right) \\left(x + y\\right)$"
          },
          "metadata": {},
          "execution_count": 6
        }
      ]
    },
    {
      "cell_type": "code",
      "source": [
        "# Solve the algebraic quadratic equation x**2-4*x-3=0.\n",
        "solve(x**2 - 4 * x - 3 , x)"
      ],
      "metadata": {
        "colab": {
          "base_uri": "https://localhost:8080/"
        },
        "id": "TcOfvRxS6HYM",
        "outputId": "8ba553c4-2a72-422b-9e7e-acb43f27f72d"
      },
      "execution_count": 8,
      "outputs": [
        {
          "output_type": "execute_result",
          "data": {
            "text/plain": [
              "[2 - sqrt(7), 2 + sqrt(7)]"
            ]
          },
          "metadata": {},
          "execution_count": 8
        }
      ]
    },
    {
      "cell_type": "code",
      "source": [
        "#Linear Equations\n",
        "solve([x - y , x + 2 * y - 5] , [x , y])"
      ],
      "metadata": {
        "colab": {
          "base_uri": "https://localhost:8080/"
        },
        "id": "6UZnsST86MWS",
        "outputId": "7b5720e8-1a98-4f8d-944e-3b65236b6607"
      },
      "execution_count": 9,
      "outputs": [
        {
          "output_type": "execute_result",
          "data": {
            "text/plain": [
              "{x: 5/3, y: 5/3}"
            ]
          },
          "metadata": {},
          "execution_count": 9
        }
      ]
    },
    {
      "cell_type": "code",
      "source": [
        "#Partial Fractions\n",
        "apart(1 / ((x + 1) * (x + 2)))"
      ],
      "metadata": {
        "colab": {
          "base_uri": "https://localhost:8080/",
          "height": 52
        },
        "id": "eYmlL8WO9HF3",
        "outputId": "5a28f648-4745-4770-f67a-17892fea6db9"
      },
      "execution_count": 10,
      "outputs": [
        {
          "output_type": "execute_result",
          "data": {
            "text/plain": [
              "-1/(x + 2) + 1/(x + 1)"
            ],
            "text/latex": "$\\displaystyle - \\frac{1}{x + 2} + \\frac{1}{x + 1}$"
          },
          "metadata": {},
          "execution_count": 10
        }
      ]
    },
    {
      "cell_type": "code",
      "source": [
        "#Differentiation\n",
        "diff(x**2 - 7 * x + 8 , x)"
      ],
      "metadata": {
        "colab": {
          "base_uri": "https://localhost:8080/",
          "height": 39
        },
        "id": "UTgjKjRy9gDl",
        "outputId": "7a25f4c1-a8d2-412f-f496-135025164689"
      },
      "execution_count": 11,
      "outputs": [
        {
          "output_type": "execute_result",
          "data": {
            "text/plain": [
              "2*x - 7"
            ],
            "text/latex": "$\\displaystyle 2 x - 7$"
          },
          "metadata": {},
          "execution_count": 11
        }
      ]
    },
    {
      "cell_type": "code",
      "source": [
        "# Definite integration to determine the area under a curve.\n",
        "integrate(x**4 , (x , 1 , 3))"
      ],
      "metadata": {
        "colab": {
          "base_uri": "https://localhost:8080/",
          "height": 51
        },
        "id": "x5UoRAfY9oWG",
        "outputId": "fd73f443-57a0-4166-ac84-c2617754527f"
      },
      "execution_count": 12,
      "outputs": [
        {
          "output_type": "execute_result",
          "data": {
            "text/plain": [
              "242/5"
            ],
            "text/latex": "$\\displaystyle \\frac{242}{5}$"
          },
          "metadata": {},
          "execution_count": 12
        }
      ]
    },
    {
      "cell_type": "code",
      "source": [
        "#Pi to 50 decimal places\n",
        "N(pi , 50)"
      ],
      "metadata": {
        "colab": {
          "base_uri": "https://localhost:8080/",
          "height": 37
        },
        "id": "HnCZLyGf9vFh",
        "outputId": "1e703e76-1ef7-41bd-b7b7-f0e66d2f95aa"
      },
      "execution_count": 13,
      "outputs": [
        {
          "output_type": "execute_result",
          "data": {
            "text/plain": [
              "3.1415926535897932384626433832795028841971693993751"
            ],
            "text/latex": "$\\displaystyle 3.1415926535897932384626433832795028841971693993751$"
          },
          "metadata": {},
          "execution_count": 13
        }
      ]
    },
    {
      "cell_type": "code",
      "source": [
        "# Define two 2x2 matrices.\n",
        "A , B = Matrix([[1 , -1] , [2 , 3]]) , Matrix([[0 , 2] , [3 , 3]])\n",
        "A , B"
      ],
      "metadata": {
        "colab": {
          "base_uri": "https://localhost:8080/"
        },
        "id": "Eb1BCCvQ93KM",
        "outputId": "cef1cd49-af3a-4e7f-af77-53d5e82356c0"
      },
      "execution_count": 14,
      "outputs": [
        {
          "output_type": "execute_result",
          "data": {
            "text/plain": [
              "(Matrix([\n",
              " [1, -1],\n",
              " [2,  3]]),\n",
              " Matrix([\n",
              " [0, 2],\n",
              " [3, 3]]))"
            ]
          },
          "metadata": {},
          "execution_count": 14
        }
      ]
    },
    {
      "cell_type": "code",
      "source": [
        "# Matrix algebra.\n",
        "2 * A + 3 * B\n"
      ],
      "metadata": {
        "colab": {
          "base_uri": "https://localhost:8080/",
          "height": 58
        },
        "id": "IkMlGAuP-AHX",
        "outputId": "57f0e845-0803-45d2-cf19-790766e7b641"
      },
      "execution_count": 15,
      "outputs": [
        {
          "output_type": "execute_result",
          "data": {
            "text/plain": [
              "Matrix([\n",
              "[ 2,  4],\n",
              "[13, 15]])"
            ],
            "text/latex": "$\\displaystyle \\left[\\begin{matrix}2 & 4\\\\13 & 15\\end{matrix}\\right]$"
          },
          "metadata": {},
          "execution_count": 15
        }
      ]
    },
    {
      "cell_type": "markdown",
      "source": [
        "#Excersises"
      ],
      "metadata": {
        "id": "N2n3cu8QBN9H"
      }
    },
    {
      "cell_type": "code",
      "source": [
        "#A) Factorise x^3 - y^3\n",
        "factor(x**3 - y**3)\n",
        "\n"
      ],
      "metadata": {
        "colab": {
          "base_uri": "https://localhost:8080/",
          "height": 39
        },
        "id": "r_BKufyaBW54",
        "outputId": "f163f626-82fc-4ba5-e6d7-58ab13b78caa"
      },
      "execution_count": 17,
      "outputs": [
        {
          "output_type": "execute_result",
          "data": {
            "text/plain": [
              "(x - y)*(x**2 + x*y + y**2)"
            ],
            "text/latex": "$\\displaystyle \\left(x - y\\right) \\left(x^{2} + x y + y^{2}\\right)$"
          },
          "metadata": {},
          "execution_count": 17
        }
      ]
    },
    {
      "cell_type": "code",
      "source": [
        "#B) Solve x^2 - 7x - 30 = 0\n",
        "solve(x**2 - 7 * x - 30)"
      ],
      "metadata": {
        "colab": {
          "base_uri": "https://localhost:8080/"
        },
        "id": "gk5sRERFByQY",
        "outputId": "74412466-c7e9-4135-b38f-f5822f6f07c1"
      },
      "execution_count": 19,
      "outputs": [
        {
          "output_type": "execute_result",
          "data": {
            "text/plain": [
              "[-3, 10]"
            ]
          },
          "metadata": {},
          "execution_count": 19
        }
      ]
    },
    {
      "cell_type": "code",
      "source": [
        "#Split into partial fractions\n",
        "apart(3 * x / ((x-1) * (x+2) * (x-5)))\n",
        "#idk if this is right"
      ],
      "metadata": {
        "colab": {
          "base_uri": "https://localhost:8080/",
          "height": 55
        },
        "id": "VepEwLuOCxSc",
        "outputId": "7d209119-c2e4-42f3-839b-230d449ebfa8"
      },
      "execution_count": 23,
      "outputs": [
        {
          "output_type": "execute_result",
          "data": {
            "text/plain": [
              "-2/(7*(x + 2)) - 1/(4*(x - 1)) + 15/(28*(x - 5))"
            ],
            "text/latex": "$\\displaystyle - \\frac{2}{7 \\left(x + 2\\right)} - \\frac{1}{4 \\left(x - 1\\right)} + \\frac{15}{28 \\left(x - 5\\right)}$"
          },
          "metadata": {},
          "execution_count": 23
        }
      ]
    },
    {
      "cell_type": "markdown",
      "source": [
        "#Using matrix"
      ],
      "metadata": {
        "id": "80xgoMSvEZLS"
      }
    },
    {
      "cell_type": "code",
      "source": [
        "#Defining matrices EXCERSISE 4\n",
        "A , B = Matrix([[1 , 2] , [-1 , 0]]) , Matrix([[1 , -3] , [4 , 7]])\n",
        "A , B"
      ],
      "metadata": {
        "colab": {
          "base_uri": "https://localhost:8080/"
        },
        "id": "U3QAPbktEB3q",
        "outputId": "97433946-7df5-4351-8ec2-6232f549e6e1"
      },
      "execution_count": 24,
      "outputs": [
        {
          "output_type": "execute_result",
          "data": {
            "text/plain": [
              "(Matrix([\n",
              " [ 1, 2],\n",
              " [-1, 0]]),\n",
              " Matrix([\n",
              " [1, -3],\n",
              " [4,  7]]))"
            ]
          },
          "metadata": {},
          "execution_count": 24
        }
      ]
    },
    {
      "cell_type": "code",
      "source": [
        "#a) 2A.\n",
        "2 * A"
      ],
      "metadata": {
        "colab": {
          "base_uri": "https://localhost:8080/",
          "height": 58
        },
        "id": "QR9mpda1FG6C",
        "outputId": "16f1a9f2-8a10-44d8-a787-b949167bdae3"
      },
      "execution_count": 25,
      "outputs": [
        {
          "output_type": "execute_result",
          "data": {
            "text/plain": [
              "Matrix([\n",
              "[ 2, 4],\n",
              "[-2, 0]])"
            ],
            "text/latex": "$\\displaystyle \\left[\\begin{matrix}2 & 4\\\\-2 & 0\\end{matrix}\\right]$"
          },
          "metadata": {},
          "execution_count": 25
        }
      ]
    },
    {
      "cell_type": "code",
      "source": [
        "#b) 3A + 4B\n",
        "(3 * A) + (4 * B)"
      ],
      "metadata": {
        "colab": {
          "base_uri": "https://localhost:8080/",
          "height": 58
        },
        "id": "DKRpo7TAFTsy",
        "outputId": "c623ef70-7e85-4082-b361-c1a2a0dc7348"
      },
      "execution_count": 27,
      "outputs": [
        {
          "output_type": "execute_result",
          "data": {
            "text/plain": [
              "Matrix([\n",
              "[ 7, -6],\n",
              "[13, 28]])"
            ],
            "text/latex": "$\\displaystyle \\left[\\begin{matrix}7 & -6\\\\13 & 28\\end{matrix}\\right]$"
          },
          "metadata": {},
          "execution_count": 27
        }
      ]
    },
    {
      "cell_type": "code",
      "source": [
        "#c) A x B\n",
        "A * B\n"
      ],
      "metadata": {
        "colab": {
          "base_uri": "https://localhost:8080/",
          "height": 58
        },
        "id": "vEgSoNPUF-xN",
        "outputId": "2c2c215d-b6ff-4441-d264-518ca8d2fa99"
      },
      "execution_count": 28,
      "outputs": [
        {
          "output_type": "execute_result",
          "data": {
            "text/plain": [
              "Matrix([\n",
              "[ 9, 11],\n",
              "[-1,  3]])"
            ],
            "text/latex": "$\\displaystyle \\left[\\begin{matrix}9 & 11\\\\-1 & 3\\end{matrix}\\right]$"
          },
          "metadata": {},
          "execution_count": 28
        }
      ]
    },
    {
      "cell_type": "code",
      "source": [
        "#d) Inverse of A\n",
        "-A"
      ],
      "metadata": {
        "colab": {
          "base_uri": "https://localhost:8080/",
          "height": 58
        },
        "id": "Z5aBgCmeGUge",
        "outputId": "5815d578-db9a-4114-951c-dbfe3f953bcc"
      },
      "execution_count": 29,
      "outputs": [
        {
          "output_type": "execute_result",
          "data": {
            "text/plain": [
              "Matrix([\n",
              "[-1, -2],\n",
              "[ 1,  0]])"
            ],
            "text/latex": "$\\displaystyle \\left[\\begin{matrix}-1 & -2\\\\1 & 0\\end{matrix}\\right]$"
          },
          "metadata": {},
          "execution_count": 29
        }
      ]
    }
  ]
}